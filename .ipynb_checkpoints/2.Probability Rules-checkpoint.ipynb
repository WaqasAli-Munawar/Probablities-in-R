{
 "cells": [
  {
   "cell_type": "markdown",
   "metadata": {},
   "source": [
    "To briefly review:\n",
    "\n",
    "* a **random experiment** is an action where we can't predict its outcome with certainty, like rolling a dice.\n",
    "* an **outcome** is a possible result of a random experiment, and an event can include more than one outcome. Seeing a 1 is a possible outcome of rolling a dice. Seeing an even number is an example of an event since 2, 4, and 6 are all outcomes that meet the definition of the event.\n",
    "* a **sample space** is the collection of all possible outcomes of a random experiment. The numbers 1 through 6 are the sample space of a dice roll.\n",
    "* a **probability** can be understood as a numerical measure of chance. We can calculate it by dividing the number of outcomes we want by the total number of outcomes in the sample space."
   ]
  },
  {
   "cell_type": "markdown",
   "metadata": {},
   "source": [
    "The probability concepts we mentioned above all revolve around the idea of looking at particular items in a collection. These ideas are nicely described in terms of **sets**. A set is just a collection of distinct objects. That is, we cannot have duplicate objects in a set. The sample space is a great example of a set since its collection of objects are the various outcomes that make it up. We cannot have duplicate outcomes in a sample space, so it qualifies as a set."
   ]
  },
  {
   "cell_type": "markdown",
   "metadata": {},
   "source": [
    "**Task**\n",
    "\n",
    "* We toss a normal coin two times. After list out all of the possible outcomes, assign the number of items in this sample space to the variable.\n",
    "\n",
    "**Answer**\n",
    "\n",
    "`coin_toss_omega <- length(c('HH', 'TT', 'HT', 'TH'))`"
   ]
  },
  {
   "cell_type": "markdown",
   "metadata": {},
   "source": [
    "**Task**\n",
    "\n",
    "Consider the six-sided dice roll. We'll define the events C and D as follows:\n",
    "\n",
    "* C: rolling an even number, {2,4,6}\n",
    "* D: rolling a number greater than 3: {4,5,6}\n",
    "\n",
    "Assume all outcomes have equal chances of occurring.\n",
    "\n",
    "* Calculate P(C) & P(D)\n",
    "* Calculate the probability of getting a number that is either even or greater than 3, P(C or D)\n",
    "* Calculate the probability of getting a number that is either even and greater than 3, P(C and D)\n",
    "\n",
    "**Answer**\n",
    "\n",
    "`p_c <- 3/6\n",
    "p_d <- 3/6\n",
    "p_c_or_d <- 4/6\n",
    "p_c_and_d <- 2/6`"
   ]
  },
  {
   "cell_type": "markdown",
   "metadata": {},
   "source": [
    "When there is no intersection between two events, we call them **mutually exclusive** events. If two events are mutually exclusive, it means that it is a zero probability for them to happen at the same time."
   ]
  },
  {
   "cell_type": "markdown",
   "metadata": {},
   "source": [
    "# Addition rule\n",
    "\n",
    "`P(A U B) = P(A) + P(B)`"
   ]
  },
  {
   "cell_type": "markdown",
   "metadata": {},
   "source": [
    "The addition rule is convenient because it works out for any number of mutually exclusive events."
   ]
  },
  {
   "cell_type": "markdown",
   "metadata": {},
   "source": [
    "**Task**\n",
    "\n",
    "Using the addition rule, find the probability of the following events for a playing card deck. Remember that a new deck of playing cards contains 52 cards. The deck contains 4 suits, or distinct symbols, and each suit has 13 playing cards. These 13 cards include: the ace, the numbers 2 through 10 and the three face cards: Jack, Queen and King.\n",
    "\n",
    "1. Drawing a card with either hearts or diamonds as its suit. \n",
    "2. Drawing a face card of any suit.\n",
    "\n",
    "**Answer**\n",
    "\n",
    "1. p_heart_or_diamonds <- 13/52 + 13/52\n",
    "2. p_face_card <- 3/52 + 3/52 + 3/52 + 3/52"
   ]
  },
  {
   "cell_type": "markdown",
   "metadata": {},
   "source": [
    "**Addition rule** could only be used for mutually exclusive events."
   ]
  },
  {
   "cell_type": "markdown",
   "metadata": {},
   "source": [
    "The problem with using the addition rule is that it ignores intersections between the two events. With this in mind, we can alter the addition rule formula.\n",
    "\n",
    "$$P(A U B) = P(A) + P(B) - P(A n B)$$ \n",
    "\n",
    "Above is an addition rule for mutually exclusive event"
   ]
  },
  {
   "cell_type": "markdown",
   "metadata": {},
   "source": [
    "When A and B are mutually exclusive, then the probability of their intersection is 0"
   ]
  },
  {
   "cell_type": "markdown",
   "metadata": {},
   "source": [
    "**Task**\n",
    "\n",
    "An online betting company offers customers the possibility of betting on a variety of games and events (football, tennis, hockey, horse races, car races, etc.). Based on historical data, the company knows the empirical probabilities of the following events:\n",
    "\n",
    "* The probability that a new customer's first bet is on football, event F, is 0.26.\n",
    "* The probability that a new customer's first bet is on tennis, event T, is 0.11.\n",
    "* The probability that a new customer's first bet is on both football and tennis, event T∩F, is 0.03.\n",
    "\n",
    "Find the probability that a new customer's first bet is either on football or tennis. \n",
    "\n",
    "**Answer**\n",
    "\n",
    "`p_f_or_t <- 0.26 + 0.11 - 0.03`"
   ]
  },
  {
   "cell_type": "code",
   "execution_count": null,
   "metadata": {},
   "outputs": [],
   "source": []
  }
 ],
 "metadata": {
  "kernelspec": {
   "display_name": "Python 3",
   "language": "python",
   "name": "python3"
  },
  "language_info": {
   "codemirror_mode": {
    "name": "ipython",
    "version": 3
   },
   "file_extension": ".py",
   "mimetype": "text/x-python",
   "name": "python",
   "nbconvert_exporter": "python",
   "pygments_lexer": "ipython3",
   "version": "3.7.6"
  }
 },
 "nbformat": 4,
 "nbformat_minor": 4
}
