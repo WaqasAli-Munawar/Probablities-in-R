{
 "cells": [
  {
   "cell_type": "markdown",
   "metadata": {},
   "source": [
    "So far, we've dealt with probability problems dealing with a single random experiment. We learned how to calculate the probabilities of **unions** and **intersections** of events using the **addition rule**. While the addition rule can go a long way, we are still unequipped for some basic problems."
   ]
  },
  {
   "cell_type": "markdown",
   "metadata": {},
   "source": [
    "We'll use the example of two coin flips as a single random experiment. Representing heads as \"H\" and tails as \"T\", the sample space of this experiment is composed of `{HH,HT,TH,TT}`, where the first letter represents the outcome of the first toss and so on. "
   ]
  },
  {
   "cell_type": "markdown",
   "metadata": {},
   "source": [
    "What if we wanted to look at 100 coin flips? Absolutely no one wants to write out strings of a hundred H's and T's just to figure out the sample space and its associated probabilities. Remember that to calculate event probabilities, we need to know two things: \n",
    "1. The size of the sample space and \n",
    "2. All the outcomes that satisfy the event. \n",
    "\n",
    "When there are many, many outcomes, we can no longer simply count outcomes in our head, so there is a fundamental limitation in considering multiple flips as a single random experiment."
   ]
  },
  {
   "cell_type": "markdown",
   "metadata": {},
   "source": [
    "A good alternative is to think of it as many single coin flips. Instead of having to deal with a large random experiment, we'll figure out a way to combine the results of many small random experiments."
   ]
  },
  {
   "cell_type": "markdown",
   "metadata": {},
   "source": [
    "Let's perform a quick warm-up of **Addition Rule** before progressing."
   ]
  },
  {
   "cell_type": "markdown",
   "metadata": {},
   "source": [
    "**Task**\n",
    "\n",
    "An advertisement company runs a quick test and shows two ads on the same web page (ad \"A\" and ad \"B\") to 100 users. At the end of the trial, they found:\n",
    "\n",
    "* 12 users clicked on ad \"A\"\n",
    "* 17 users clicked on ad \"B\"\n",
    "* 3 users clicked on both ads\n",
    "\n",
    "Find the probablities.\n",
    "\n",
    "**Answer**\n",
    "\n",
    "`p_a <- 12/100\n",
    "p_b <- 17/100\n",
    "p_a_and_b <- 3/100\n",
    "p_a_or_b <- p_a + p_b - p_a_and_b`"
   ]
  },
  {
   "cell_type": "markdown",
   "metadata": {},
   "source": [
    "What good comes from between viewing 100 coin flips as 100 small random experiments compared to a single large experiment?\n",
    "\n",
    "By thinking of the experiment in terms of stages, we can break down the probability calculation in terms of stages as well. Instead of calculating the probability for multiple events all at once, we can calculate it in stages. This is called the **multiplication rule**."
   ]
  },
  {
   "cell_type": "markdown",
   "metadata": {},
   "source": [
    "The addition rule allows us to calculate probabilities for unions and intersections, while the multiplication rule allows us to calculate the probabilities of multiple random experiments together."
   ]
  },
  {
   "cell_type": "markdown",
   "metadata": {},
   "source": [
    "So in a more general formula, the multiplication rule looks like\n",
    "\n",
    "$$P(AnB) = P(A)xP(B)$$"
   ]
  },
  {
   "cell_type": "markdown",
   "metadata": {},
   "source": [
    "The multiplication rule is incredibly important in calculating probabilities, but it also has an important assumption behind it."
   ]
  },
  {
   "cell_type": "markdown",
   "metadata": {},
   "source": [
    "**Task**\n",
    "\n",
    "* For rolling a fair six-sided die, find:\n",
    "    1. The probability of getting a 6 two times in a row.\n",
    "    2. The probability of getting a 3 on the first throw and a 2 on the second throw\n",
    "    3. The probability of getting an even number on both throws.\n",
    "    4. The probability of getting a 1 on the first throw and an even number on the second throw.\n",
    "\n",
    "**Answer**\n",
    "\n",
    "`p_6_6 <- 1/6 * 1/6\n",
    "p_3_2 <- 1/6 * 1/6\n",
    "p_even_even <- 3/6 * 3/6\n",
    "p_1_even <- 1/6 * 3/6`"
   ]
  },
  {
   "cell_type": "markdown",
   "metadata": {},
   "source": [
    "When we toss a coin two times, we don't have much reason to believe that the result of the first flip will affect the second. In terms of probability, no matter what the result is for the first flip, the probability of the second coin resulting in heads will stay at 50%. Using more everyday events, we can take event **A** to be \"I will go to the gym today\" and event **B** to be \"I will do homework today\". Assuming that nothing extraordinary happens in my day, the act of me going to the gym realistically will not change the chances that I will do my homework and vice-versa."
   ]
  },
  {
   "cell_type": "markdown",
   "metadata": {},
   "source": [
    "Conversely, there are also instances where two events might affect each other's chances. Since one event can affect the chances of another happening, we must call them **dependent**."
   ]
  },
  {
   "cell_type": "markdown",
   "metadata": {},
   "source": [
    "This idea of events influencing or not influencing each other's chances of occurring is extremely important to the field of probability. When two events do not question the other's chance of happening, they are **independent** of each other. When the two events do affect each other, we call them **dependent**."
   ]
  },
  {
   "cell_type": "markdown",
   "metadata": {},
   "source": [
    "The concept of independence is crucial to using the multiplication rule. The multiplication rule assumes that the events that we're looking at are **independent**.  If the two events are dependent on each other, we cannot use the multiplication rule."
   ]
  },
  {
   "cell_type": "markdown",
   "metadata": {},
   "source": [
    "**Task**\n",
    "\n",
    "We work at a company that analyzes successful data scientist applicants. We've received some data on skills that were particularly useful to prospective hires. We wonder how likely it is for applicants to have particular combinations of skills, so we investigate the data:\n",
    "\n",
    "According to all the resumes that are in our system:\n",
    "\n",
    "* The probability that an applicant lists SQL on their resume is 0.20.\n",
    "* The probability that an applicant lists machine learning on their resume is 0.30.\n",
    "* The probability that an applicant lists a visualizations on their resume is 0.40.\n",
    "\n",
    "Assuming that having these skills is independent of having any other, calculate the following probabilities:\n",
    "\n",
    "1. The probability that an applicant lists both SQL and machine learning on their resume.\n",
    "2. The probability that an applicant either lists machine learning or visualizations on their resume. \n",
    "3. The probability that an applicant has at least one of the skills. \n",
    "\n",
    "**Answer**\n",
    "\n",
    "`sql_and_ml <- 0.2 * 0.3\n",
    "ml_or_viz <- 0.3 + 0.4 - (0.3 * 0.4)\n",
    "at_least_one_skill <- 0.2 + 0.3 + 0.4 - (0.2 * 0.3) - (0.2 * 0.4) - (0.3 * 0.4) + (0.2 * 0.3 * 0.4)`"
   ]
  },
  {
   "cell_type": "markdown",
   "metadata": {},
   "source": [
    "If two events are mutually exclusive, then it is impossible for them to happen at the same time. A common misconception is that independence and mutual exclusivity are the same thing. We can see their differences more clearly if their formulas are shown together."
   ]
  },
  {
   "cell_type": "markdown",
   "metadata": {},
   "source": [
    "Mathematically, we represent mutually exclusive events as follows\n",
    "\n",
    "**P(AnB) = 0**"
   ]
  },
  {
   "cell_type": "markdown",
   "metadata": {},
   "source": [
    "the definition for independence, given below:\n",
    "\n",
    "**P(AnB) = P(A)xP(B)**   "
   ]
  },
  {
   "cell_type": "markdown",
   "metadata": {},
   "source": [
    "One might think of mutual exclusivity as one event \"affecting\" another. If we observe event **A** and it is mutually exclusive to **B**, then we know that **B** has no chance of happening. However we must take careful note that in mutually exclusive events, neither event is truly influencing the other: **A** does not change the probability of **B**. Mutual exclusivity is just a statement that two events cannot happen together, whereas independence between events is a statement of a certain connection between them.\n",
    "\n",
    "Being able to tell if events are independent or mutually exclusive from each other is important to probability calculations. If we mistake one for the other, then our calculations will be way off. "
   ]
  },
  {
   "cell_type": "markdown",
   "metadata": {},
   "source": [
    "**Task**\n",
    "\n",
    "Same above excersie with little twist\n",
    "\n",
    "We work at a company that analyzes successful data scientist applicants. We've received some data on skills that were particularly useful to prospective hires. We wonder how likely it is for applicants to have particular combinations of skills, so we investigate the data:\n",
    "\n",
    "According to all the resumes that are in our system:\n",
    "\n",
    "* The probability that an applicant lists SQL on their resume is 0.20.\n",
    "* The probability that an applicant lists machine learning on their resume is 0.30.\n",
    "* The probability that an applicant lists a visualizations on their resume is 0.40.\n",
    "\n",
    "This time, however, let's assume that each of these events are mutually exclusive, instead of independent, calculate the following probabilities:\n",
    "\n",
    "1. The probability that an applicant lists both SQL and machine learning on their resume.\n",
    "2. The probability that an applicant either lists machine learning or visualizations on their resume. \n",
    "3. The probability that an applicant has at least one of the skills. \n",
    "\n",
    "**Answer**\n",
    "\n",
    "\n",
    "`sql_and_ml_me <- 0\n",
    "ml_or_viz_me <- 0.3 + 0.4\n",
    "at_least_one_skill_me <- 0.2 + 0.3 + 0.4`"
   ]
  },
  {
   "attachments": {
    "image.png": {
     "image/png": "[encoded data removed]"
    }
   },
   "cell_type": "markdown",
   "metadata": {},
   "source": [
    "When we talk about events, we are talking about all of the outcomes that satisfy the conditions of the event. If there are outcomes that satisfy the conditions, there may be outcomes that don't satisfy the conditions.\n",
    "\n",
    "For example, if we take rolling a six-sided dice as our random experiment, we could define our event as \"rolling an even number\". This means that the numbers 2, 4, and 6 would satisfy this event. Consequently, the odd numbers —1, 3, and 5— don't satisfy the event. Visualizing this as a pair of Venn Diagrams, we see the following:\n",
    "\n",
    "![image.png](attachment:image.png)"
   ]
  },
  {
   "cell_type": "markdown",
   "metadata": {},
   "source": [
    "If all the outcomes satisfying the event form the \"circle,\" then all the outcomes that don't satisfy it represent the rest of the rectangle. If we take the union of these two sets, we get the sample space! As it turns out, thinking of all the events that don't satisfy an event condition is a useful idea in probability. We refer to this set of outcomes as the **complement of an event**. In the dictionary, a complement is a thing that brings another to perfection, so it makes sense that an event and its complement will recreate the sample space. Notation-wise, we typically use a capital, superscript \"C\" to denote the complement. If we define an event **A**, then the complement of **A** would look like $A^C$\n",
    "."
   ]
  },
  {
   "cell_type": "markdown",
   "metadata": {},
   "source": [
    "Complements provide us with another useful tool to calculate probabilities."
   ]
  },
  {
   "cell_type": "markdown",
   "metadata": {},
   "source": [
    "**Task**\n",
    "\n",
    "1. Consider the roll of a six-sided dice. We'll define \"rolling an even number\" as our event.\n",
    "    * Calculate the probability of the complement of this event.\n",
    "2. Consider drawing a card from a deck of playing cards. We'll define \"drawing an ace\" as our event.\n",
    "    * Calculate the probability of the complement of this event.\n",
    "    \n",
    "**Answer**\n",
    "\n",
    "`p_complement_even <- 1/2\n",
    "p_complement_ace <- 48/52`"
   ]
  },
  {
   "cell_type": "markdown",
   "metadata": {},
   "source": [
    "Equipped with complements and the addition and multiplication rules, we can tackle many simple probability problems. More difficult problems will require us to combine multiple rules together.One technique we'll learn is how to take advantage of using complements to calculate probabilities.\n",
    "\n",
    "Consider the event \"What is the probability of getting at least one 6 in four throws of a single six-sided die?\" This type of event is different from what we've seen so far because it asks for getting at least one 6 instead of exactly one. Rather than ask ourselves about all the outcomes that satisfy this event, we may consider its complement instead. The opposite of getting at least one 6 is getting zero 6's at all in the four throws."
   ]
  },
  {
   "cell_type": "markdown",
   "metadata": {},
   "source": [
    "We also know that the union of an event and its complement is the entire sample space\n",
    "\n",
    "$$A∪A^C=Ω$$"
   ]
  },
  {
   "cell_type": "markdown",
   "metadata": {},
   "source": [
    "An outcome must either satisfy the event condition or not, so it cannot do both. Therefore, an event and its complement are also mutually exclusive as well. If two events are mutually exclusive, then the probability of their union is just the sum of the individual probabilities.\n",
    "\n",
    "$$P(A∪A^C)=P(Ω)⟹P(A)+P(A^C)=P(Ω)$$"
   ]
  },
  {
   "cell_type": "markdown",
   "metadata": {},
   "source": [
    "Rearranging the above equation, we can see an interesting relationship between the probability of an event and the probability of its complement:\n",
    "\n",
    "$$P(A)+P(A^C)= 1 ⟹P(A) = 1 -P(A^C)$$"
   ]
  },
  {
   "cell_type": "markdown",
   "metadata": {},
   "source": [
    "Using the equation from above, we can instantly get the probability of getting at least one 6 in 4 dice throws:\n",
    "$$P(A) = 1 -P(5/6)^4 = 0.5177$$"
   ]
  },
  {
   "cell_type": "markdown",
   "metadata": {},
   "source": [
    "As we can see, it is possible to turn harder problems into simpler problems by shifting our perspective on it. Using the complement of an event is one of these ways. "
   ]
  },
  {
   "cell_type": "markdown",
   "metadata": {},
   "source": [
    "**Task**\n",
    "\n",
    "* Consider the random experiment of throwing two six-sided dice simultaneously.\n",
    "    * Find the probability of getting at least one double-six (both die show 6) in 24 throws of two six-sided dice.\n",
    "    \n",
    "**Answer**\n",
    "\n",
    "`p_one_double_6 <- 1 - (35/36)**24`"
   ]
  },
  {
   "cell_type": "markdown",
   "metadata": {},
   "source": [
    "We have given an emphasis on independence. However, figuring out if two events are actually dependent is an important skill as well. Recall that dependent events are events that affect each other's probabilities of occurring. While this sounds simple in theoretical terms, knowing that two events are dependent on each other can be significant in real-world contexts."
   ]
  },
  {
   "cell_type": "markdown",
   "metadata": {},
   "source": [
    "Consider a company that hires two reviewers to examine the resumes of potential data scientists to hire. Working alone, one reviewer says that 10% of the resumes are great candidates. Alone, the second says that 17% of the resumes are good hires. However, when working together the two reviewers only agree that 8% of the candidates are good for the job.\n",
    "\n",
    "We may find it weird that the percentage of \"good\" candidates changes if the two reviewers are working alone or together. We really want to make sure that we only look at qualified candidates, so we want to see if they influence each other. The question is: how can we prove this using the probability rules we've learned so far?"
   ]
  },
  {
   "cell_type": "markdown",
   "metadata": {},
   "source": [
    "**Task**\n",
    "\n",
    "* Using the data from the scenario, figure out if these two events are independent.\n",
    "\n",
    "**Answer**\n",
    "\n",
    "`p_intersection <- (0.1 * 0.17)` # assuming both event are independent\n",
    "\n",
    "`is_independent <- p_intersection == 0.08` # checking if two event are independent"
   ]
  },
  {
   "cell_type": "code",
   "execution_count": null,
   "metadata": {},
   "outputs": [],
   "source": []
  }
 ],
 "metadata": {
  "kernelspec": {
   "display_name": "Python 3",
   "language": "python",
   "name": "python3"
  },
  "language_info": {
   "codemirror_mode": {
    "name": "ipython",
    "version": 3
   },
   "file_extension": ".py",
   "mimetype": "text/x-python",
   "name": "python",
   "nbconvert_exporter": "python",
   "pygments_lexer": "ipython3",
   "version": "3.7.6"
  }
 },
 "nbformat": 4,
 "nbformat_minor": 4
}
